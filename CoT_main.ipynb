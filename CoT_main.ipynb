{
 "cells": [
  {
   "cell_type": "markdown",
   "metadata": {
    "id": "8oGnIjWrcRgy"
   },
   "source": [
    "# Часть 1. Сегментация на основе U-Net"
   ]
  },
  {
   "cell_type": "markdown",
   "metadata": {
    "id": "hHHueuBVcSvV"
   },
   "source": [
    "Библиотеки"
   ]
  },
  {
   "cell_type": "code",
   "execution_count": 1,
   "metadata": {
    "colab": {
     "base_uri": "https://localhost:8080/"
    },
    "id": "lcjDC9dCcKCq",
    "outputId": "c7d69dbb-a6ea-4518-81cf-06157b0904f7"
   },
   "outputs": [],
   "source": [
    "# #Установим keras (если необходимо)\n",
    "# !pip install keras\n",
    "\n",
    "# #Установим tensorflow (если необходимо)\n",
    "# !pip install tensorflow\n",
    "\n",
    "# #Установим библиотеку для отображения изменения accuracy и loss\n",
    "# !pip install livelossplot\n",
    "\n",
    "# #Установим метрики torch (если берем DICE из коробки)\n",
    "# !pip install torchmetrics"
   ]
  },
  {
   "cell_type": "code",
   "execution_count": null,
   "metadata": {},
   "outputs": [],
   "source": [
    "#Это необходимо заполнить для работы с telegram ботом\n",
    "TOKEN = \"YOUR_TOKEN\"\n",
    "chat_id = \"YOUR_CHAT_ID\""
   ]
  },
  {
   "cell_type": "code",
   "execution_count": 1,
   "metadata": {
    "id": "BYiOu8PjcYc9"
   },
   "outputs": [],
   "source": [
    "#Импортируем необходимые библиотеки\n",
    "\n",
    "import os\n",
    "import time\n",
    "import glob\n",
    "import cv2\n",
    "from imageio import imread\n",
    "\n",
    "import pandas as pd\n",
    "import numpy as np\n",
    "import matplotlib.pyplot as plt\n",
    "\n",
    "import tensorflow as tf\n",
    "from tensorflow.keras.preprocessing.image import ImageDataGenerator\n",
    "from tensorflow.python.compiler.tensorrt import trt_convert as trt\n",
    "\n",
    "from skimage import measure\n",
    "from skimage.io import imread, imsave, imshow\n",
    "from skimage.transform import resize\n",
    "from skimage.filters import gaussian\n",
    "from skimage.morphology import dilation, disk\n",
    "from skimage.draw import polygon, polygon_perimeter\n",
    "\n",
    "from livelossplot.tf_keras import PlotLossesCallback\n",
    "import requests\n",
    "\n",
    "# import torch\n",
    "# from torchmetrics.functional import dice"
   ]
  },
  {
   "cell_type": "markdown",
   "metadata": {
    "id": "t66QHNr7cbmJ"
   },
   "source": [
    "Вспомогательные функции"
   ]
  },
  {
   "cell_type": "code",
   "execution_count": 2,
   "metadata": {
    "colab": {
     "base_uri": "https://localhost:8080/"
    },
    "id": "FvQcPdkV2p8d",
    "outputId": "2865cea3-0a10-4407-c276-7e4dcc9d00a2"
   },
   "outputs": [],
   "source": [
    "#Если работаем через google disk\n",
    "#Подключимся к диску с данными\n",
    "# from google.colab import drive\n",
    "# drive.mount('/content/gdrive')\n",
    "\n",
    "# images = sorted(glob.glob('/content/gdrive/MyDrive/cat_data/img/*.jpg'))\n",
    "# masks = sorted(glob.glob('/content/gdrive/MyDrive/cat_data/masks_machine/*.png'))\n",
    "\n",
    "#Список изображений и масок\n",
    "images = sorted(glob.glob('./cat_data/img/*.jpg'))\n",
    "masks = sorted(glob.glob('./cat_data/masks_machine/*.png'))"
   ]
  },
  {
   "cell_type": "code",
   "execution_count": 3,
   "metadata": {
    "id": "x4nDAF8Ucfdr"
   },
   "outputs": [],
   "source": [
    "#Зададим размер batch и размер изображения\n",
    "BATCH_SIZE = 16\n",
    "IMG_SHAPE  = (256, 256)\n",
    "OUTPUT_SIZE = (960, 1280)\n",
    "\n",
    "#7 классов + 1 фон\n",
    "CLASSES = 8\n",
    "\n",
    "#Цвета для отображения сегментации\n",
    "Colors = ['black', 'blue', 'yellow', 'cyan', 'orange', 'pink', 'red', 'green']\n",
    "rgb_colors = [(0,   0,   0),(255, 0,   0),(0,   255, 0),(0,   0,   255),\n",
    "              (255, 165, 0),(255, 192, 203),(0,   255, 255),(255, 0,   255)]"
   ]
  },
  {
   "cell_type": "code",
   "execution_count": 4,
   "metadata": {
    "id": "mM-Osz8JdxTk"
   },
   "outputs": [],
   "source": [
    "#Функция для загрузки изображения\n",
    "def load_img(image, mask):\n",
    "\n",
    "    #Загружаем и препроцессим изображения\n",
    "    image = tf.io.read_file(image)\n",
    "    image = tf.io.decode_jpeg(image)\n",
    "    image = tf.image.resize(image, OUTPUT_SIZE)\n",
    "    image = tf.image.convert_image_dtype(image, tf.float32)\n",
    "    image = image / 255.0\n",
    "\n",
    "    #Загружаем и препроцессим маски изображений\n",
    "    mask = tf.io.read_file(mask)\n",
    "    mask = tf.io.decode_png(mask)\n",
    "    mask = tf.image.grayscale_to_rgb(mask) #Если маски сохранены в GRAY\n",
    "    mask = tf.image.rgb_to_grayscale(mask)\n",
    "    mask = tf.image.resize(mask, OUTPUT_SIZE)\n",
    "    mask = tf.image.convert_image_dtype(mask, tf.float32)\n",
    "\n",
    "    #Сохраним маски для каждого класса\n",
    "    masks = []\n",
    "    for i in range(CLASSES):\n",
    "        masks.append(tf.where(tf.equal(mask, float(i)), 1.0, 0.0))\n",
    "    masks = tf.stack(masks, axis=2)\n",
    "    masks = tf.reshape(masks, OUTPUT_SIZE + (CLASSES,))\n",
    "    return image, masks\n",
    "\n",
    "\n",
    "#Аугментация изобажений\n",
    "def aug_img(image, masks):\n",
    "    random_crop = tf.random.uniform((), 0.3, 1)\n",
    "    image = tf.image.central_crop(image, random_crop)\n",
    "    masks = tf.image.central_crop(masks, random_crop)\n",
    "    random_flip = tf.random.uniform((), 0, 1)\n",
    "    if random_flip >= 0.5:\n",
    "        image = tf.image.flip_left_right(image)\n",
    "        masks = tf.image.flip_left_right(masks)\n",
    "    image = tf.image.resize(image, IMG_SHAPE)\n",
    "    masks = tf.image.resize(masks, IMG_SHAPE)\n",
    "    return image, masks\n",
    "\n",
    "\n",
    "#Функция для подсчёта DICE коэффициента\n",
    "def dice_coef(y_pred, y_true):\n",
    "    y_pred = tf.unstack(y_pred, axis=3)\n",
    "    y_true = tf.unstack(y_true, axis=3)\n",
    "    dice_summ = 0\n",
    "\n",
    "    for i, (a_y_pred, b_y_true) in enumerate(zip(y_pred, y_true)):\n",
    "        dice_calculate = (2 * tf.math.reduce_sum(a_y_pred * b_y_true) + 1) /\\\n",
    "         (tf.math.reduce_sum(a_y_pred + b_y_true) + 1)\n",
    "\n",
    "        dice_summ += dice_calculate\n",
    "    avg_dice = dice_summ/CLASSES\n",
    "    return avg_dice\n",
    "\n",
    "\n",
    "#Функция для подсчета DICE loss\n",
    "def dice_loss(y_pred, y_true):\n",
    "    d_loss = 1 - dice_coef(y_pred, y_true)\n",
    "    return d_loss\n",
    "\n",
    "\n",
    "#binary_crossentropy - дает хорошую сходимость модели при сбалансированном наборе данных\n",
    "#DICE - хорошо в задачах сегментации но плохая сходимость\n",
    "#Плохо сбалансированные данные, но хорошие реузьтаты:\n",
    "# Binary crossentropy + 0.25 * DICE\n",
    "\n",
    "def dice_bce_loss(y_pred, y_true):\n",
    "    total_loss = 0.25 * dice_loss(y_pred, y_true) + tf.keras.losses.binary_crossentropy(y_pred, y_true)\n",
    "    return total_loss\n",
    "\n",
    "# #Можно воспользоваться готовой DICE (но не очень удобно)\n",
    "# preds = torch.tensor([[2, 0], [2, 1]])\n",
    "# target = torch.tensor([[1, 1], [2, 0]])\n",
    "# dice(y_pred, y_true, average='micro')\n",
    "\n",
    "\n",
    "#Функция для подсчёта расстояния между точками\n",
    "def distance_between_p(p1, p2):\n",
    "    dis = ((p2[0] - p1[0]) ** 2 + (p2[1] - p1[1]) ** 2) ** 0.5\n",
    "    return dis\n",
    "\n",
    "\n",
    "#Функция для отправки фото в телеграм\n",
    "def send_photo_file(chat_id, img):\n",
    "    files = {'photo': open(img, 'rb')}\n",
    "    requests.post(f'https://api.telegram.org/bot{TOKEN}/sendPhoto?chat_id={chat_id}', files=files)\n",
    "\n",
    "#Функция для отправки сообщения в телеграм\n",
    "def send_telegram_message(message):\n",
    "    requests.get(f'https://api.telegram.org/bot{TOKEN}/sendMessage?chat_id={chat_id}&text={message}').json()"
   ]
  },
  {
   "cell_type": "code",
   "execution_count": 5,
   "metadata": {
    "id": "mEloE3i_dxLX"
   },
   "outputs": [],
   "source": [
    "#Формируем датасет\n",
    "dataset = tf.data.Dataset.zip((tf.data.Dataset.from_tensor_slices(images),\n",
    "                               tf.data.Dataset.from_tensor_slices(masks)))\n",
    "\n",
    "#Загружаем дату\n",
    "dataset = dataset.map(load_img, num_parallel_calls=tf.data.AUTOTUNE)\n",
    "\n",
    "#Аугментация (увеличим датасет в 50 раз)\n",
    "dataset = dataset.repeat(50)\n",
    "dataset = dataset.map(aug_img, num_parallel_calls=tf.data.AUTOTUNE)"
   ]
  },
  {
   "cell_type": "markdown",
   "metadata": {
    "id": "qRIqW3erc08I"
   },
   "source": [
    "Вручную было размечено 42 фотографии.\n",
    "\n",
    "Имеются следующие метки класса:\n",
    "- Кот\n",
    "- Кошачья голова (выкл)\n",
    "- Стул\n",
    "- Ножки стула\n",
    "- Стол\n",
    "- Ножки стола\n",
    "- Тарелка\n",
    "- Фон"
   ]
  },
  {
   "cell_type": "code",
   "execution_count": 15,
   "metadata": {
    "id": "T2SEkT_Ucfak"
   },
   "outputs": [],
   "source": [
    "#Размер train выборки\n",
    "train_size = 1800\n",
    "\n",
    "#Делим на train и test\n",
    "train_dataset = dataset.take(train_size).cache()\n",
    "test_dataset = dataset.skip(train_size).take(len(dataset) - train_size).cache()\n",
    "\n",
    "train_dataset = train_dataset.batch(BATCH_SIZE)\n",
    "test_dataset = test_dataset.batch(BATCH_SIZE)"
   ]
  },
  {
   "cell_type": "markdown",
   "metadata": {
    "id": "O2K0iDJscjC_"
   },
   "source": [
    "## Модель U-Net ##"
   ]
  },
  {
   "cell_type": "code",
   "execution_count": 16,
   "metadata": {
    "id": "BLcGpnZGwiFB"
   },
   "outputs": [],
   "source": [
    "def unet_model(image_size, output_classes):\n",
    "\n",
    "    #Входной слой\n",
    "    input_layer = tf.keras.layers.Input(shape=image_size + (3,))\n",
    "    conv_1 = tf.keras.layers.Conv2D(64, 4, activation=tf.keras.layers.LeakyReLU(),\n",
    "                                    strides=2, padding='same', kernel_initializer='glorot_normal',\n",
    "                                    use_bias=False)(input_layer)\n",
    "    #Сворачиваем\n",
    "    conv_1_1 = tf.keras.layers.Conv2D(128, 4, activation=tf.keras.layers.LeakyReLU(), strides=2,\n",
    "                                      padding='same', kernel_initializer='glorot_normal',\n",
    "                                      use_bias=False)(conv_1)\n",
    "    batch_norm_1 = tf.keras.layers.BatchNormalization()(conv_1_1)\n",
    "\n",
    "    #2\n",
    "    conv_2 = tf.keras.layers.Conv2D(256, 4, activation=tf.keras.layers.LeakyReLU(), strides=2,\n",
    "                                      padding='same', kernel_initializer='glorot_normal',\n",
    "                                      use_bias=False)(batch_norm_1)\n",
    "    batch_norm_2 = tf.keras.layers.BatchNormalization()(conv_2)\n",
    "\n",
    "    #3\n",
    "    conv_3 = tf.keras.layers.Conv2D(512, 4, activation=tf.keras.layers.LeakyReLU(), strides=2,\n",
    "                                      padding='same', kernel_initializer='glorot_normal',\n",
    "                                      use_bias=False)(batch_norm_2)\n",
    "    batch_norm_3 = tf.keras.layers.BatchNormalization()(conv_3)\n",
    "\n",
    "    #4\n",
    "    conv_4 = tf.keras.layers.Conv2D(512, 4, activation=tf.keras.layers.LeakyReLU(), strides=2,\n",
    "                                      padding='same', kernel_initializer='glorot_normal',\n",
    "                                      use_bias=False)(batch_norm_3)\n",
    "    batch_norm_4 = tf.keras.layers.BatchNormalization()(conv_4)\n",
    "\n",
    "    #5\n",
    "    conv_5 = tf.keras.layers.Conv2D(512, 4, activation=tf.keras.layers.LeakyReLU(), strides=2,\n",
    "                                      padding='same', kernel_initializer='glorot_normal',\n",
    "                                      use_bias=False)(batch_norm_4)\n",
    "    batch_norm_5 = tf.keras.layers.BatchNormalization()(conv_5)\n",
    "\n",
    "    #6\n",
    "    conv_6 = tf.keras.layers.Conv2D(512, 4, activation=tf.keras.layers.LeakyReLU(), strides=2,\n",
    "                                      padding='same', kernel_initializer='glorot_normal',\n",
    "                                      use_bias=False)(batch_norm_5)\n",
    "\n",
    "\n",
    "    #Разворачиваем\n",
    "    #1\n",
    "    up_1 = tf.keras.layers.Concatenate()([tf.keras.layers.Conv2DTranspose(512, 4, activation='relu', strides=2,\n",
    "                                                                          padding='same',\n",
    "                                                                          kernel_initializer='glorot_normal',\n",
    "                                                                          use_bias=False)(conv_6), conv_5])\n",
    "    batch_up_1 = tf.keras.layers.BatchNormalization()(up_1)\n",
    "\n",
    "    #Добавим Dropout от переобучения\n",
    "    batch_up_1 = tf.keras.layers.Dropout(0.25)(batch_up_1)\n",
    "\n",
    "    #2\n",
    "    up_2 = tf.keras.layers.Concatenate()([tf.keras.layers.Conv2DTranspose(512, 4, activation='relu', strides=2,\n",
    "                                                                          padding='same',\n",
    "                                                                          kernel_initializer='glorot_normal',\n",
    "                                                                          use_bias=False)(batch_up_1), conv_4])\n",
    "    batch_up_2 = tf.keras.layers.BatchNormalization()(up_2)\n",
    "    batch_up_2 = tf.keras.layers.Dropout(0.25)(batch_up_2)\n",
    "\n",
    "\n",
    "\n",
    "\n",
    "    #3\n",
    "    up_3 = tf.keras.layers.Concatenate()([tf.keras.layers.Conv2DTranspose(512, 4, activation='relu', strides=2,\n",
    "                                                                          padding='same',\n",
    "                                                                          kernel_initializer='glorot_normal',\n",
    "                                                                          use_bias=False)(batch_up_2), conv_3])\n",
    "    batch_up_3 = tf.keras.layers.BatchNormalization()(up_3)\n",
    "    batch_up_3 = tf.keras.layers.Dropout(0.25)(batch_up_3)\n",
    "\n",
    "\n",
    "\n",
    "\n",
    "    #4\n",
    "    up_4 = tf.keras.layers.Concatenate()([tf.keras.layers.Conv2DTranspose(256, 4, activation='relu', strides=2,\n",
    "                                                                          padding='same',\n",
    "                                                                          kernel_initializer='glorot_normal',\n",
    "                                                                          use_bias=False)(batch_up_3), conv_2])\n",
    "    batch_up_4 = tf.keras.layers.BatchNormalization()(up_4)\n",
    "\n",
    "\n",
    "    #5\n",
    "    up_5 = tf.keras.layers.Concatenate()([tf.keras.layers.Conv2DTranspose(128, 4, activation='relu', strides=2,\n",
    "                                                                          padding='same',\n",
    "                                                                          kernel_initializer='glorot_normal',\n",
    "                                                                          use_bias=False)(batch_up_4), conv_1_1])\n",
    "    batch_up_5 = tf.keras.layers.BatchNormalization()(up_5)\n",
    "\n",
    "\n",
    "    #6\n",
    "    up_6 = tf.keras.layers.Concatenate()([tf.keras.layers.Conv2DTranspose(64, 4, activation='relu', strides=2,\n",
    "                                                                          padding='same',\n",
    "                                                                          kernel_initializer='glorot_normal',\n",
    "                                                                          use_bias=False)(batch_up_5), conv_1])\n",
    "    batch_up_6 = tf.keras.layers.BatchNormalization()(up_6)\n",
    "\n",
    "\n",
    "    #Выходной слой\n",
    "    output_layer = tf.keras.layers.Conv2DTranspose(output_classes, 4, activation='sigmoid', strides=2,\n",
    "                                                   padding='same',\n",
    "                                                   kernel_initializer='glorot_normal')(batch_up_6)\n",
    "\n",
    "    model = tf.keras.Model(inputs=input_layer, outputs=output_layer)\n",
    "    return model"
   ]
  },
  {
   "cell_type": "code",
   "execution_count": 21,
   "metadata": {
    "colab": {
     "base_uri": "https://localhost:8080/",
     "height": 1000
    },
    "id": "oTraWt2TwiFC",
    "outputId": "2082375f-441b-47b4-9a2f-7491b931fb4c"
   },
   "outputs": [],
   "source": [
    "#Иницилизируем модель\n",
    "COT_model = unet_model(IMG_SHAPE, CLASSES)\n",
    "\n",
    "tf.keras.utils.plot_model(COT_model, show_shapes=True)"
   ]
  },
  {
   "cell_type": "code",
   "execution_count": 22,
   "metadata": {
    "colab": {
     "base_uri": "https://localhost:8080/"
    },
    "id": "QPON2CukwiFD",
    "outputId": "b06395c5-90c5-46ff-e180-af6e6d8af3d6"
   },
   "outputs": [],
   "source": [
    "#Компилируем модель\n",
    "COT_model.compile(optimizer='adam',\n",
    "                  loss=[dice_bce_loss],\n",
    "                  metrics=[dice_coef])\n",
    "\n",
    "COT_model.summary()"
   ]
  },
  {
   "cell_type": "code",
   "execution_count": 12,
   "metadata": {
    "colab": {
     "base_uri": "https://localhost:8080/",
     "height": 700
    },
    "id": "xxKFf6PRwiFD",
    "outputId": "5d50c2a4-d142-48bc-859b-5f6a116ca8f0"
   },
   "outputs": [
    {
     "data": {
      "image/png": "[encoded data removed]",
      "text/plain": [
       "<Figure size 1200x800 with 2 Axes>"
      ]
     },
     "metadata": {},
     "output_type": "display_data"
    },
    {
     "name": "stdout",
     "output_type": "stream",
     "text": [
      "dice_coef\n",
      "\ttraining         \t (min:    0.458, max:    0.983, cur:    0.983)\n",
      "\tvalidation       \t (min:    0.133, max:    0.983, cur:    0.983)\n",
      "Loss\n",
      "\ttraining         \t (min:    0.011, max:    0.418, cur:    0.011)\n",
      "\tvalidation       \t (min:    0.012, max:    2.427, cur:    0.012)\n",
      "113/113 [==============================] - 38s 332ms/step - loss: 0.0113 - dice_coef: 0.9828 - val_loss: 0.0120 - val_dice_coef: 0.9825\n"
     ]
    },
    {
     "data": {
      "text/plain": [
       "<keras.callbacks.History at 0x7eff22314a60>"
      ]
     },
     "execution_count": 12,
     "metadata": {},
     "output_type": "execute_result"
    }
   ],
   "source": [
    "EPOCHS = 10\n",
    "\n",
    "#Обучение\n",
    "COT_model.fit(train_dataset,\n",
    "              validation_data=test_dataset,\n",
    "              epochs=EPOCHS, initial_epoch=0,\n",
    "              callbacks=[PlotLossesCallback()])"
   ]
  },
  {
   "cell_type": "code",
   "execution_count": null,
   "metadata": {},
   "outputs": [],
   "source": [
    "#Сохранить веса модели\n",
    "# COT_model.save('/content/gdrive/MyDrive/cat_data/networks/checkpoint_best_unet_like_model_10epochs')\n",
    "COT_model.save('./cat_data/networks/checkpoint_best_unet_like_model_10epochs')"
   ]
  },
  {
   "cell_type": "markdown",
   "metadata": {
    "id": "85rS2vx9eyl4"
   },
   "source": [
    "# Часть 2. Рабочий функционал по детектированию сближения двух классов сегментации"
   ]
  },
  {
   "cell_type": "markdown",
   "metadata": {
    "id": "pLcG89Ibe7c6"
   },
   "source": [
    "Теперь имея рабочую модель сегментации, построим основной функционал оповещения при приближении кота к котлетам."
   ]
  },
  {
   "cell_type": "code",
   "execution_count": null,
   "metadata": {},
   "outputs": [],
   "source": [
    "#Загрузить модель\n",
    "# COT_model.load_weights('/content/gdrive/MyDrive/cat_data/networks/checkpoint_best_unet_like_model_10epochs')\n",
    "COT_model.load_weights('./cat_data/networks/checkpoint_best_unet_like_model_10epochs')"
   ]
  },
  {
   "cell_type": "code",
   "execution_count": null,
   "metadata": {},
   "outputs": [],
   "source": [
    "#Тестовое видео\n",
    "video_path = './cat_data/test_video/telegram-cloud-document-2-5237884420458820547.mp4'"
   ]
  },
  {
   "cell_type": "code",
   "execution_count": null,
   "metadata": {},
   "outputs": [],
   "source": [
    "cat_on_table = False\n",
    "no_more_food = False\n",
    "\n",
    "#Дистаниции до стола и критическая:)\n",
    "dist_to_table = 170\n",
    "dist_critical = 140\n",
    "\n",
    "#Сообщение в телеграм?\n",
    "telegram_message_cat_on_table = False\n",
    "telegram_message_no_more_food = False\n",
    "\n",
    "#Инициализируем работу с видео\n",
    "video_capture = cv2.VideoCapture(video_path)\n",
    "\n",
    "#Пока не нажата клавиша q функция будет работать\n",
    "while video_capture.isOpened():\n",
    "\n",
    "    ret, image_to_process = video_capture.read()\n",
    "\n",
    "    #BGR to RGB\n",
    "    image_to_process_reversed = image_to_process[:, :, ::-1]\n",
    "\n",
    "    sample = resize(image_to_process_reversed, IMG_SHAPE)\n",
    "    predict = COT_model.predict(sample.reshape((1,) +  IMG_SHAPE + (3,)))\n",
    "    predict = predict.reshape(IMG_SHAPE + (CLASSES,))\n",
    "\n",
    "    scale = image_to_process_reversed.shape[0] / IMG_SHAPE[0], image_to_process_reversed.shape[1] / IMG_SHAPE[1]\n",
    "\n",
    "    frame = (image_to_process_reversed / 1.5).astype(np.uint8)\n",
    "    frame_to_telegram = frame\n",
    "\n",
    "    for channel in range(1, CLASSES):\n",
    "        contour_overlay = np.zeros((frame.shape[0], frame.shape[1]))\n",
    "        contours = measure.find_contours(np.array(predict[:,:,channel]), 0.8)\n",
    "\n",
    "        try:\n",
    "            for contour in contours:\n",
    "                rr, cc = polygon_perimeter(contour[:, 0] * scale[0], contour[:, 1] * scale[1],\n",
    "                                           shape=contour_overlay.shape)\n",
    "                contour_overlay[rr, cc] = 1\n",
    "\n",
    "            contour_overlay = dilation(contour_overlay, disk(1))\n",
    "            frame[contour_overlay == 1] = rgb_colors[channel]\n",
    "        except:\n",
    "            pass\n",
    "\n",
    "        \n",
    "    #Контур кота и тарелки\n",
    "    contours_plate = measure.find_contours(np.array(frame[:,:,1]), 0.5)\n",
    "    contours_cat = measure.find_contours(np.array(frame[:,:,2]), 0.5)\n",
    "    if len(contours_plate) != 0:\n",
    "        \n",
    "        #Принимается, что кот справа от тарелки\n",
    "        #Координаты центральной точки тарелки (Танцы с бубном)\n",
    "        plate_coord_index_max = np.where( contours_plate[0][:,1] == max(contours_plate[0][:,1]) )[0][0]\n",
    "        plate_coord_max = contours_plate[0][plate_coord_index_max:][0]    \n",
    "        plate_coord_index_min = np.where( contours_plate[0][:,1] == min(contours_plate[0][:,1]) )[0][0]\n",
    "        plate_coord_min = contours_plate[0][plate_coord_index_min:][0]    \n",
    "        plate_coord_X = int((plate_coord_max[1]+plate_coord_min[1])/2)\n",
    "        plate_coord = plate_coord_max[0], plate_coord_X\n",
    "\n",
    "        #Координаты крайней точки кота\n",
    "        cat_coord_index = np.where( contours_cat[0][:,1] == min(contours_cat[0][:,1]) )[0][0]\n",
    "        cat_coord = contours_cat[0][cat_coord_index:][0]   \n",
    "\n",
    "        #Защита от плохой сегментации\n",
    "        if (cat_coord[0] < 10) & (cat_coord[1] > plate_coord[1]):\n",
    "            cat_coord_index = np.where( contours_cat[2][:,1] == min(contours_cat[2][:,1]) )[0][0]\n",
    "            cat_coord = contours_cat[2][cat_coord_index:][0]  \n",
    "\n",
    "        #Определим расстояние между точками\n",
    "    dist = distance_between_p((plate_coord[1], plate_coord[0]), (cat_coord[1], cat_coord[0]))\n",
    "    \n",
    "    #Кот на столе\n",
    "    if dist <= dist_to_table:\n",
    "        \"\"\"Кот на столе\"\"\"\n",
    "        cat_on_table = True\n",
    "    \n",
    "    #Кот в котлетах\n",
    "    if dist <= dist_critical:\n",
    "        \"\"\"Котлеты дискредитированы\"\"\"\n",
    "        no_more_food = True\n",
    "    \n",
    "    \n",
    "    if (no_more_food == False) & (cat_on_table==False):\n",
    "        #Точки тарелки и кота\n",
    "        frame_result = cv2.circle(frame, (int(plate_coord[1]),int(plate_coord[0])), 2, (0, 255, 0), 3)\n",
    "        frame_result = cv2.circle(frame, (int(cat_coord[1]),int(cat_coord[0])), 2, (255, 0, 0), 3)\n",
    "\n",
    "        #Отрисовать линию от кота до котлет\n",
    "        cv2.line(frame_result, (int(plate_coord[1]),int(plate_coord[0])), \n",
    "                 (int(cat_coord[1]),int(cat_coord[0])), (0,255,0), 2)\n",
    "\n",
    "        #Напишим расстояние между двумя точками\n",
    "        cv2.putText(frame_result, str(round(dist)),  (int((int(plate_coord[1])+int(cat_coord[1])) / 2) ,\n",
    "                                            int((int(plate_coord[0])+int(cat_coord[0])) / 2) ), \n",
    "                 cv2.FONT_HERSHEY_SIMPLEX, 0.5, (0,0,200), 2)\n",
    "        \n",
    "    elif cat_on_table and no_more_food:\n",
    "        frame_result = frame\n",
    "        cv2.putText(frame_result, 'NO MORE FOOD, MAN', (100, 256), \n",
    "                    cv2.FONT_HERSHEY_SIMPLEX, 2, (255,0,0), 3)\n",
    "        \n",
    "    elif cat_on_table:\n",
    "        #Точки тарелки и кота\n",
    "        frame_result = cv2.circle(frame, (int(plate_coord[1]),int(plate_coord[0])), 2, (0, 255, 0), 3)\n",
    "        frame_result = cv2.circle(frame, (int(cat_coord[1]),int(cat_coord[0])), 2, (255, 0, 0), 3)\n",
    "\n",
    "        #Отрисовать линию от кота до котлет\n",
    "        cv2.line(frame_result, (int(plate_coord[1]),int(plate_coord[0])), \n",
    "                 (int(cat_coord[1]),int(cat_coord[0])), (0,255,0), 2)\n",
    "\n",
    "        #Напишим расстояние между двумя точками\n",
    "        cv2.putText(frame_result, str(round(dist)),  (int((int(plate_coord[1])+int(cat_coord[1])) / 2) ,\n",
    "                                            int((int(plate_coord[0])+int(cat_coord[0])) / 2) ), \n",
    "                 cv2.FONT_HERSHEY_SIMPLEX, 0.5, (0,0,200), 2)\n",
    "        \n",
    "        cv2.putText(frame_result, 'CAT ON THE TABLE', (100, 256), \n",
    "                 cv2.FONT_HERSHEY_SIMPLEX, 2, (0,0,255), 3)\n",
    "        \n",
    "      \n",
    "    #BGR to RGB\n",
    "    frame_result = frame_result[:, :, ::-1]\n",
    "    \n",
    "    #Отправка сообщения в телеграмм бот\n",
    "    if not telegram_message_cat_on_table and cat_on_table:\n",
    "        message_tel = f'Пушистый приближается! Он на рассотянии {round(dist)} от котлет!!!'\n",
    "        send_telegram_message(message_tel)\n",
    "        telegram_message_cat_on_table = True\n",
    "    \n",
    "    if not telegram_message_no_more_food and no_more_food:\n",
    "        message_tel = 'Можешь не торопиться, котлеты дискредитированы!'\n",
    "        send_telegram_message(message_tel)\n",
    "        cv2.imwrite('./image_test_free.png', frame_to_telegram)\n",
    "        send_photo_file(chat_id, './image_test_free.png')   \n",
    "        telegram_message_no_more_food = True\n",
    "    \n",
    "    #Показать результат работы\n",
    "    cv2.imshow('Cat', frame_result)\n",
    "\n",
    "    #Прерывание работы клавишей q\n",
    "    if cv2.waitKey(1) & 0xFF == ord('q'):\n",
    "        #Очищаем всё после завершения.\n",
    "        video_capture.release()\n",
    "        cv2.destroyAllWindows()\n",
    "        break"
   ]
  },
  {
   "cell_type": "code",
   "execution_count": null,
   "metadata": {
    "id": "i7_R8OeSclJv"
   },
   "outputs": [],
   "source": []
  }
 ],
 "metadata": {
  "accelerator": "GPU",
  "colab": {
   "gpuType": "T4",
   "provenance": []
  },
  "kernelspec": {
   "display_name": "Python 3",
   "language": "python",
   "name": "python3"
  },
  "language_info": {
   "codemirror_mode": {
    "name": "ipython",
    "version": 3
   },
   "file_extension": ".py",
   "mimetype": "text/x-python",
   "name": "python",
   "nbconvert_exporter": "python",
   "pygments_lexer": "ipython3",
   "version": "3.8.5"
  }
 },
 "nbformat": 4,
 "nbformat_minor": 1
}
